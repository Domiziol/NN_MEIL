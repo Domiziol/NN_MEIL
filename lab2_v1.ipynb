{
  "nbformat": 4,
  "nbformat_minor": 0,
  "metadata": {
    "colab": {
      "provenance": []
    },
    "kernelspec": {
      "name": "python3",
      "display_name": "Python 3"
    },
    "language_info": {
      "name": "python"
    }
  },
  "cells": [
    {
      "cell_type": "code",
      "source": [
        "import numpy as np\n",
        "import matplotlib.pyplot as plt"
      ],
      "metadata": {
        "id": "oW60VDEoeDi8"
      },
      "execution_count": null,
      "outputs": []
    },
    {
      "cell_type": "code",
      "execution_count": null,
      "metadata": {
        "id": "mirSnTwzW_sC"
      },
      "outputs": [],
      "source": [
        "np.random.seed(1)\n",
        "def generate_regression_data(n=30):\n",
        " X = np.linspace(0, 10, n)\n",
        " Y = 0.5 * X + 2 * np.random.rand(np.size(X)) - 2\n",
        "\n",
        " np.savetxt('X_data.dat', X)\n",
        " np.savetxt('Y_data.dat', Y)\n",
        "\n",
        " return X.reshape(-1, 1).tolist(), Y.reshape(-1, 1).tolist()\n",
        "\n",
        "generate_regression_data()"
      ]
    },
    {
      "cell_type": "code",
      "source": [
        "def read_regression_data(verbose=0):\n",
        " X = np.loadtxt('X_data.dat')\n",
        " Y = np.loadtxt('Y_data.dat')\n",
        "\n",
        " if verbose>1:\n",
        "  plt.plot(X, Y, 'r--o', label=\"Training data\")\n",
        "  plt.legend()\n",
        "  plt.grid()\n",
        "  plt.show()\n",
        "\n",
        " return X, Y\n",
        "\n",
        "#read_regression_data(2)"
      ],
      "metadata": {
        "id": "098fRdRxpTJZ"
      },
      "execution_count": null,
      "outputs": []
    },
    {
      "cell_type": "code",
      "source": [
        "def activation_potential(w, x, bias=0):\n",
        "  v = np.dot(w, x)\n",
        "  v = v + bias\n",
        "  return v"
      ],
      "metadata": {
        "id": "XHXSAZo0bls5"
      },
      "execution_count": null,
      "outputs": []
    },
    {
      "cell_type": "code",
      "source": [
        "def linear(input, derivative = False):\n",
        "  if derivative == 1:\n",
        "    return 1\n",
        "  else: return input"
      ],
      "metadata": {
        "id": "sEV0BKwpeAvY"
      },
      "execution_count": null,
      "outputs": []
    },
    {
      "cell_type": "code",
      "source": [
        "def sigmoid(input, derivative = False):\n",
        "  y = 1/(1+np.exp(-input))\n",
        "  if derivative == 1:\n",
        "    return y*(1-y)\n",
        "  else:\n",
        "    return y"
      ],
      "metadata": {
        "id": "N4vvuuZPf3nJ"
      },
      "execution_count": null,
      "outputs": []
    },
    {
      "cell_type": "code",
      "source": [
        "def tanh_fun(input, derivative = False):\n",
        "  y = np.tanh\n",
        "  if derivative == 1:\n",
        "    return 1 - y*y\n",
        "  else:\n",
        "    return y"
      ],
      "metadata": {
        "id": "nM7MlbLYhp_t"
      },
      "execution_count": null,
      "outputs": []
    },
    {
      "cell_type": "code",
      "source": [
        "def ReLu(input, derivative = False):\n",
        "  if derivative == 0:\n",
        "    return np.maximum(0, input)\n",
        "  else:\n",
        "    return np.heavyside(input, 0)"
      ],
      "metadata": {
        "id": "7zCbOifaid1A"
      },
      "execution_count": null,
      "outputs": []
    },
    {
      "cell_type": "code",
      "source": [
        "def mse(expected, output, derivative = False):\n",
        "  if derivative == 0:\n",
        "    L = np.sum(np.square(np.subtract(expected, output)))\n",
        "    #L = (expected - output)**2\n",
        "    size = np.size(output)\n",
        "    return 1/size * L\n",
        "  else:\n",
        "    L = np.sum(np.array(-2*np.subtract(expected, output)))\n",
        "    size = np.size(output)\n",
        "    return 1/size*L\n",
        "\n",
        "print(mse(4, 3, 1))\n"
      ],
      "metadata": {
        "id": "ePvMH0rWjfGT",
        "colab": {
          "base_uri": "https://localhost:8080/"
        },
        "outputId": "6c6a17c6-c4a7-4d9c-a985-89079cd83fc7"
      },
      "execution_count": null,
      "outputs": [
        {
          "output_type": "stream",
          "name": "stdout",
          "text": [
            "-2.0\n"
          ]
        }
      ]
    },
    {
      "cell_type": "code",
      "source": [
        "def bc_entropy(expected, output, derivative = False):\n",
        "  if derivative == 0:\n",
        "    L = -(expected*np.log(output)+(1-expected)*np.log(1-output))\n",
        "  else:\n",
        "    L = -(expected/output - (1 - expected)/(1-output))\n",
        "\n",
        "  L_size = np.size(L)\n",
        "  L = 1/L_size * np.sum(L)\n",
        "  return L\n"
      ],
      "metadata": {
        "id": "VDbHVUgBkzDO"
      },
      "execution_count": null,
      "outputs": []
    },
    {
      "cell_type": "code",
      "source": [
        "class Neuron:\n",
        "  def __init__(self, weights, X, Y, bias):\n",
        "    self.weights = weights\n",
        "    self.X = X\n",
        "    self.Y = Y\n",
        "    self.activation_potential(bias)\n",
        "\n",
        "  def activation_potential(self, bias=0):\n",
        "    self.v = np.dot(self.weights, self.X)\n",
        "    self.v += bias\n",
        "\n",
        "\n",
        "  def linear(self, derivative = False):\n",
        "    if derivative == 1:\n",
        "      return 1\n",
        "    else: return self.v\n",
        "\n",
        "\n",
        "  def sigmoid(self, derivative = False):\n",
        "    y = 1/(1+np.exp(-self.v))\n",
        "    if derivative == 1:\n",
        "      return y*(1-y)\n",
        "    else:\n",
        "      return y\n",
        "\n",
        "  def tanh_fun(self, derivative = False):\n",
        "    y = np.tanh\n",
        "    if derivative == 1:\n",
        "      return 1 - y*y\n",
        "    else:\n",
        "      return y\n",
        "\n",
        "  def ReLu(self, derivative = False):\n",
        "    if derivative == 0:\n",
        "      return np.maximum(0, self.v)\n",
        "    else:\n",
        "      return np.heavyside(self.v, 0)\n",
        "\n",
        "  def neuron_output(self, activation_fun, derivative = False):\n",
        "    a = activation_fun(self)\n",
        "    return a\n",
        "\n"
      ],
      "metadata": {
        "id": "dvjc9c_Rmvbx"
      },
      "execution_count": null,
      "outputs": []
    },
    {
      "cell_type": "code",
      "source": [
        "class Loss:\n",
        "  def mse(self, expected, output, derivative):\n",
        "    if derivative == 0:\n",
        "      L = (expected - output)**2\n",
        "      print(L)\n",
        "      L_size = np.size(L)\n",
        "      print(L_size)\n",
        "      print(\"0\")\n",
        "      print(np.sum(L))\n",
        "      return 1/L_size * np.sum(L)\n",
        "    else:\n",
        "      L = -2*(expected - output)\n",
        "      L_size = np.size(L)\n",
        "      print(\"1\")\n",
        "      print(L/L_size)\n",
        "      return L/L_size\n",
        "\n",
        "  def bc_entropy(self, expected, output, derivative = False):\n",
        "    if derivative == 0:\n",
        "      L = -(expected*np.log(output)+(1-expected)*np.log(1-output))\n",
        "    else:\n",
        "      L = -(expected/output - (1 - expected)/(1-output))\n",
        "\n",
        "    L_size = np.size(L)\n",
        "    L = 1/L_size * np.sum(L)\n",
        "    return L\n",
        "\n",
        "\n",
        "  def loss_output(self, loss_fnc, expected, neuron_output, derivative = False):\n",
        "    l = loss_fnc(self, expected, neuron_output, derivative)\n",
        "    #print(l)"
      ],
      "metadata": {
        "id": "3nCN0elBXfIz"
      },
      "execution_count": null,
      "outputs": []
    },
    {
      "cell_type": "code",
      "source": [
        "weights = [np.random.randn() for i in range(30)]\n",
        "X, Y = read_regression_data()\n"
      ],
      "metadata": {
        "id": "wGFQy1Xj6hBK"
      },
      "execution_count": null,
      "outputs": []
    },
    {
      "cell_type": "code",
      "source": [
        "neuron = Neuron(weights, X, Y, 0)\n",
        "out = neuron.neuron_output(Neuron.sigmoid)\n",
        "loss1 = Loss()\n",
        "out = 2\n",
        "loss1.loss_output(Loss.mse, 4, out)\n",
        "\n"
      ],
      "metadata": {
        "id": "uxnJE2LsnueE",
        "colab": {
          "base_uri": "https://localhost:8080/"
        },
        "outputId": "a65b22cf-4e4e-457e-9750-98d83a54bf2b"
      },
      "execution_count": null,
      "outputs": [
        {
          "output_type": "stream",
          "name": "stdout",
          "text": [
            "4\n",
            "1\n",
            "0\n",
            "4\n"
          ]
        }
      ]
    },
    {
      "cell_type": "code",
      "source": [
        "print(np.sum([4]))"
      ],
      "metadata": {
        "colab": {
          "base_uri": "https://localhost:8080/"
        },
        "id": "B5mLutz_mTfc",
        "outputId": "b3a1b439-0269-45eb-987b-56c979fa7654"
      },
      "execution_count": null,
      "outputs": [
        {
          "output_type": "stream",
          "name": "stdout",
          "text": [
            "4\n"
          ]
        }
      ]
    }
  ]
}